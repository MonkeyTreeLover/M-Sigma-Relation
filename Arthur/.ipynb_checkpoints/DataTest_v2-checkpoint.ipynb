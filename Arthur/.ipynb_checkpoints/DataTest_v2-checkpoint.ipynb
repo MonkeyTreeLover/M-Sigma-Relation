{
 "cells": [
  {
   "cell_type": "code",
   "execution_count": 17,
   "id": "413707de-4f1e-4250-810d-f177ece0aeee",
   "metadata": {},
   "outputs": [
    {
     "name": "stdout",
     "output_type": "stream",
     "text": [
      "[147.3046  133.34019  72.828   ... 123.54    247.86591 197.6559 ]\n"
     ]
    }
   ],
   "source": [
    "from astropy.io import fits\n",
    "import numpy as np\n",
    "import matplotlib.pyplot as plt\n",
    "\n",
    "file = \"star_data.fits\"\n",
    "\n",
    "hdulist  = fits.open(file)\n",
    "\n",
    "data = hdulist[1].data\n"
   ]
  },
  {
   "cell_type": "code",
   "execution_count": null,
   "id": "31753874-0e3a-417e-add2-83821766b3cd",
   "metadata": {},
   "outputs": [],
   "source": [
    "plt.scatter(data[\"Log M\"],spiral[\"sigma\"])\n",
    "    \n",
    "plt.xscale('log')\n",
    "plt.yscale('log')\n",
    "\n",
    "plt.title(\"M-Sigma\")\n",
    "plt.legend()\n",
    "plt.xlabel(x)\n",
    "plt.ylabel(y)\n",
    "\n",
    "\n",
    "\n",
    "plt.show()"
   ]
  },
  {
   "cell_type": "code",
   "execution_count": null,
   "id": "157e5b3b-9ed2-45f7-a9c5-906f2e4ae9e7",
   "metadata": {},
   "outputs": [],
   "source": []
  }
 ],
 "metadata": {
  "kernelspec": {
   "display_name": "Python 3 (ipykernel)",
   "language": "python",
   "name": "python3"
  },
  "language_info": {
   "codemirror_mode": {
    "name": "ipython",
    "version": 3
   },
   "file_extension": ".py",
   "mimetype": "text/x-python",
   "name": "python",
   "nbconvert_exporter": "python",
   "pygments_lexer": "ipython3",
   "version": "3.12.3"
  }
 },
 "nbformat": 4,
 "nbformat_minor": 5
}
