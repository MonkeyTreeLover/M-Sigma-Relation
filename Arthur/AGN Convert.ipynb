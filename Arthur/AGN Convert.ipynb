{
 "cells": [
  {
   "cell_type": "code",
   "execution_count": 15,
   "id": "fd967843-ac16-41b2-b0f1-696cda5945fc",
   "metadata": {},
   "outputs": [
    {
     "name": "stdout",
     "output_type": "stream",
     "text": [
      "fertig\n"
     ]
    }
   ],
   "source": [
    "from astropy.io import fits, ascii\n",
    "import numpy as np\n",
    "import matplotlib.pyplot as plt\n",
    "\n",
    "\n",
    "file2 = \"m-sig_table_con_tc.csv\"\n",
    "data2 = ascii.read(file2) \n",
    "\n",
    "file = \"star_data.fits\"\n",
    "hdulist  = fits.open(file)\n",
    "\n",
    "data = hdulist[1].data\n",
    "\n",
    "\n",
    "spiral = data2.copy()\n",
    "ellips = data2.copy()\n",
    "\n",
    "i=0\n",
    "while i < len(spiral):\n",
    "    if spiral[i][\"Type\"][0].upper() != 'S':\n",
    "        spiral.remove_row(i)  \n",
    "        i -= 1\n",
    "    i += 1\n",
    "\n",
    "i=0\n",
    "while i < len(ellips):\n",
    "    if ellips[i][\"Type\"][0].upper() != 'E':\n",
    "        ellips.remove_row(i)  \n",
    "        i -= 1\n",
    "    i += 1\n",
    "\n",
    "x=\"sigma_e (km/s)\"\n",
    "y=\"M_BH (solar masses)\"\n",
    "\n",
    "#indexs1 = [i for i in range(len(data[\"Log M\"])) if data[\"Log M\"][i] != float(\"NaN\") or abs(data[\"Log M\"][i]) != float(\"inf\")]\n",
    "#indexs2 = [i for i in range(len(data[\"sigma\"])) if data[\"Log M\"][i] != float(\"NaN\") or abs(data[\"sigma\"][i]) != float(\"inf\")]\n",
    "#lenn = len(indexs1) * int(len(indexs1) >= len(indexs2)) + len(indexs2) * int(len(indexs2) > len(indexs1))\n",
    "\n",
    "#indexs = [i for i in range(lenn) if indexs1[i] in indexs2]\n",
    "    \n",
    "masses = []#[abs(data[\"Log M\"][i]) for i in range(len(data)) if abs(data[\"Log M\"][i]) != float(\"nan\") and abs(data[\"Log M\"][i]) != float(\"inf\")]\n",
    "sigma = []#[abs(data[\"sigma\"][i]) for i in range(len(data)) if abs(data[\"sigma\"][i]) != float(\"nan\") and abs(data[\"sigma\"][i]) != float(\"inf\")]\n",
    "z = []\n",
    "for i in range(len(data)):\n",
    "    m = None\n",
    "    s = None\n",
    "    if abs(data[\"Log M\"][i]) != float(\"nan\") and abs(data[\"Log M\"][i]) != float(\"inf\"):\n",
    "        m = abs(data[\"Log M\"][i])\n",
    "    if abs(data[\"sigma\"][i]) != float(\"nan\") and abs(data[\"sigma\"][i]) != float(\"inf\"):\n",
    "        s = abs(data[\"sigma\"][i])\n",
    "\n",
    "    if m and s:\n",
    "        masses.append(m)\n",
    "        sigma.append(s)\n",
    "        z.append(data[\"z\"][i])\n",
    "    #else:\n",
    "        #print(i)\n",
    "\n",
    "masses = np.array(masses)\n",
    "sigma = np.array(sigma)\n",
    "z = np.array(z)\n",
    "print(\"fertig\")"
   ]
  },
  {
   "cell_type": "code",
   "execution_count": 39,
   "id": "60a8e456-0799-4b2e-8800-7a07cdbb1eec",
   "metadata": {},
   "outputs": [
    {
     "name": "stdout",
     "output_type": "stream",
     "text": [
      "93.6870331238492 \n",
      "<class 'str'>\n"
     ]
    }
   ],
   "source": [
    "d = [float(str(i).replace(\"Mpc\", \"\")) for i in cosmo.comoving_distance(z)]\n",
    "print(d[0])\n",
    "print(type(d[0]))"
   ]
  },
  {
   "cell_type": "code",
   "execution_count": 75,
   "id": "5da77bb0-8778-4e8a-91b2-d777f9a797ed",
   "metadata": {},
   "outputs": [
    {
     "name": "stdout",
     "output_type": "stream",
     "text": [
      "<astropy.io.fits.hdu.image.PrimaryHDU object at 0x0000023C40919250>\n"
     ]
    }
   ],
   "source": [
    "header = fits.Header()\n",
    "header[\"Dist\"] = \"Distance to the galaxy in Mpc\"\n",
    "header.comments[\"Dist\"]= \"calculated with z: from astropy.cosmology import Planck18 as cosmo\"\n",
    "\n",
    "header[\"z\"] = \"Redshift; z<=0.39, mean=0.1\"\n",
    "\n",
    "header[\"M_BH\"] = \"Mass of the centre black hole in Solar masses (1.989e30kg = M Solar)\"\n",
    "header[\"sigma_e\"] = \"Velocity Dispersion in km/s\"\n",
    "\n",
    "d = [float(str(i).replace(\"Mpc\", \"\")) for i in cosmo.comoving_distance(z)]\n",
    "\n",
    "hdu = fits.PrimaryHDU((d, z, masses, sigma), header)\n",
    "\n",
    "print(hdu)\n",
    "hdu.writeto('AGN.fits', overwrite=True)\n"
   ]
  },
  {
   "cell_type": "markdown",
   "id": "1bdf4f87-6558-419b-9d88-6fbd3a11cc38",
   "metadata": {},
   "source": [
    "Header Data:\n",
    "1. \"Dist\": Distanz in Mpc berechnet mit z:\n",
    "   \n",
    "        from astropy.cosmology import Planck18 as cosmo\n",
    "        d = [float(str(i).replace(\"Mpc\", \"\")) for i in cosmo.comoving_distance(z)]\n",
    "2. \"z\": Rotverschiebung\n",
    "3. \"M_BH\": Masse der Schwarzenlöcher in [solar masses]\n",
    "4. \"sigma_e\": Geschwindiggkeits Dispersion [km/s]"
   ]
  },
  {
   "cell_type": "code",
   "execution_count": null,
   "id": "95db86f1-3ad5-42be-8a0c-c6e110e88ae5",
   "metadata": {},
   "outputs": [],
   "source": []
  }
 ],
 "metadata": {
  "kernelspec": {
   "display_name": "Python 3 (ipykernel)",
   "language": "python",
   "name": "python3"
  },
  "language_info": {
   "codemirror_mode": {
    "name": "ipython",
    "version": 3
   },
   "file_extension": ".py",
   "mimetype": "text/x-python",
   "name": "python",
   "nbconvert_exporter": "python",
   "pygments_lexer": "ipython3",
   "version": "3.12.3"
  }
 },
 "nbformat": 4,
 "nbformat_minor": 5
}
