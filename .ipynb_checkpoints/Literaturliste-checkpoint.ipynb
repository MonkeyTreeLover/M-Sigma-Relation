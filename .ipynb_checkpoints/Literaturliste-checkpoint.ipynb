{
 "cells": [
  {
   "cell_type": "markdown",
   "id": "ab79d2a6-f846-4418-a576-62f59816963c",
   "metadata": {},
   "source": [
    "# Literatur:\n",
    "\n",
    "    - Folien: https://iopscience.iop.org/article/10.1088/0004-637X/698/1/198\n",
    "    - Original: https://ui.adsabs.harvard.edu/abs/2000ApJ...539L...9F/abstract\n",
    "    - Review 1: https://ui.adsabs.harvard.edu/abs/2019GReGr..51...65Z/abstract\n",
    "    - Review 2: https://ui.adsabs.harvard.edu/abs/2020FrP.....8...61M/abstract\n",
    "    - Neu 1: https://ui.adsabs.harvard.edu/abs/2024ApJ...967..100S/abstract\n",
    "    - Neu 2: https://ui.adsabs.harvard.edu/abs/2023OJAp....6E..27G/abstract\n",
    "    - Neu 3: https://ui.adsabs.harvard.edu/abs/2022Galax..10...73G/abstract"
   ]
  },
  {
   "cell_type": "code",
   "execution_count": null,
   "id": "0f5df72c-3763-4010-ba1b-5e81b6bcdb6f",
   "metadata": {},
   "outputs": [],
   "source": []
  }
 ],
 "metadata": {
  "kernelspec": {
   "display_name": "Python 3 (ipykernel)",
   "language": "python",
   "name": "python3"
  },
  "language_info": {
   "codemirror_mode": {
    "name": "ipython",
    "version": 3
   },
   "file_extension": ".py",
   "mimetype": "text/x-python",
   "name": "python",
   "nbconvert_exporter": "python",
   "pygments_lexer": "ipython3",
   "version": "3.12.3"
  }
 },
 "nbformat": 4,
 "nbformat_minor": 5
}
